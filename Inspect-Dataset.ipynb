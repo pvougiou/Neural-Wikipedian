{
 "cells": [
  {
   "cell_type": "markdown",
   "metadata": {},
   "source": [
    "<h2>Inspecting the Aligned Datasets</h2>\n",
    "\n",
    "We will be inspecting the corpora of aligned Wikipedia summaries and knowledge base triples (i.e. D1 and D2)."
   ]
  },
  {
   "cell_type": "code",
   "execution_count": 1,
   "metadata": {},
   "outputs": [],
   "source": [
    "import os\n",
    "import cPickle as pickle\n",
    "import operator"
   ]
  },
  {
   "cell_type": "markdown",
   "metadata": {},
   "source": [
    "Choose which dataset file you would like to load by changing the value of the `selected_dataset` variable below.\n",
    "* `selected_dataset = 'D1'`: will load the dataset of DBpedia triples aligned with Wikipedia biographies\n",
    "* `selected_dataset = 'D2'`: will load the dataset of Wikidata triples aligned with Wikipedia biographies"
   ]
  },
  {
   "cell_type": "code",
   "execution_count": 2,
   "metadata": {},
   "outputs": [],
   "source": [
    "selected_dataset = 'D1'\n",
    "assert (selected_dataset == 'D1' or selected_dataset == 'D2'), \"selected_dataset can be set to either 'D1' or 'D2'.\""
   ]
  },
  {
   "cell_type": "markdown",
   "metadata": {},
   "source": [
    "We are loading all the dataset `pickle` files that reside in the selected dataset's directory."
   ]
  },
  {
   "cell_type": "code",
   "execution_count": 3,
   "metadata": {},
   "outputs": [
    {
     "name": "stdout",
     "output_type": "stream",
     "text": [
      "Successfully loaded dataset file: ./D1/data/22.p\n",
      "Successfully loaded dataset file: ./D1/data/18.p\n",
      "Successfully loaded dataset file: ./D1/data/8.p\n",
      "Successfully loaded dataset file: ./D1/data/6.p\n",
      "Successfully loaded dataset file: ./D1/data/13.p\n",
      "Successfully loaded dataset file: ./D1/data/14.p\n",
      "Successfully loaded dataset file: ./D1/data/24.p\n",
      "Successfully loaded dataset file: ./D1/data/10.p\n",
      "Successfully loaded dataset file: ./D1/data/20.p\n",
      "Successfully loaded dataset file: ./D1/data/15.p\n",
      "Successfully loaded dataset file: ./D1/data/21.p\n",
      "Successfully loaded dataset file: ./D1/data/4.p\n",
      "Successfully loaded dataset file: ./D1/data/1.p\n",
      "Successfully loaded dataset file: ./D1/data/11.p\n",
      "Successfully loaded dataset file: ./D1/data/2.p\n",
      "Successfully loaded dataset file: ./D1/data/17.p\n",
      "Successfully loaded dataset file: ./D1/data/23.p\n",
      "Successfully loaded dataset file: ./D1/data/25.p\n",
      "Successfully loaded dataset file: ./D1/data/3.p\n",
      "Successfully loaded dataset file: ./D1/data/7.p\n",
      "Successfully loaded dataset file: ./D1/data/12.p\n",
      "Successfully loaded dataset file: ./D1/data/19.p\n",
      "Successfully loaded dataset file: ./D1/data/16.p\n",
      "Successfully loaded dataset file: ./D1/data/5.p\n",
      "Successfully loaded dataset file: ./D1/data/9.p\n",
      "Successfully loaded dataset file: ./D1/data/26.p\n",
      "Total items that have been loaded in the dataset: 256850\n"
     ]
    }
   ],
   "source": [
    "dataset_dir = './%s/data/' % selected_dataset\n",
    "dataset = {'item': [], 'original_summary': [], 'summary_with_URIs': [], 'summary_with_surf_forms': [], 'triples': []}\n",
    "\n",
    "for file in os.listdir(dataset_dir):\n",
    "    if file.endswith(\".p\"):\n",
    "        tempDatasetFileLocation = os.path.join(dataset_dir, file)\n",
    "        with open(tempDatasetFileLocation, 'rb') as tempDatasetFile:\n",
    "            tempDataset = pickle.load(tempDatasetFile)\n",
    "            dataset['item'].extend(tempDataset['item'])\n",
    "            dataset['original_summary'].extend(tempDataset['original_summary'])\n",
    "            dataset['summary_with_URIs'].extend(tempDataset['summary_with_URIs'])\n",
    "            dataset['summary_with_surf_forms'].extend(tempDataset['summary_with_surf_forms'])\n",
    "            dataset['triples'].extend(tempDataset['triples'])\n",
    "            print('Successfully loaded dataset file: %s' % (tempDatasetFileLocation))\n",
    "assert(len(dataset['item']) == len(dataset['original_summary']))\n",
    "assert(len(dataset['item']) == len(dataset['triples']))\n",
    "assert(len(dataset['item']) == len(dataset['summary_with_URIs']))\n",
    "assert(len(dataset['item']) == len(dataset['summary_with_surf_forms']))\n",
    "print('Total items that have been loaded in the dataset: %d' % (len(dataset['item'])))"
   ]
  },
  {
   "cell_type": "markdown",
   "metadata": {},
   "source": [
    "The selected dataset is loaded as a dictionary of lists. The lists are aligned with each other. For example, in order to print all entries about the $15$-th item, we simply do:"
   ]
  },
  {
   "cell_type": "code",
   "execution_count": 4,
   "metadata": {},
   "outputs": [
    {
     "name": "stdout",
     "output_type": "stream",
     "text": [
      "original_summary\n",
      "George Yull Mackie, Baron Mackie of Benshie CBE DSO DFC (10 July 1919 – 17 February 2015) was a Scottish Liberal Party politician. After World War II in which he served as a decorated airman with RAF Bomber Command, Mackie took over a farm at Benshie, Angus, and subsequently set up a cattle ranch at Braeroy, Inverness-shire, near Spean Bridge.\n",
      "item\n",
      "http://dbpedia.org/resource/George_Mackie,_Baron_Mackie_of_Benshie\n",
      "triples\n",
      "['<item> http://dbpedia.org/ontology/birthPlace http://dbpedia.org/resource/Tarves', '<item> http://dbpedia.org/ontology/citizenship http://dbpedia.org/resource/Scotland', '<item> http://dbpedia.org/ontology/deathPlace http://dbpedia.org/resource/Dundee', '<item> http://dbpedia.org/ontology/hometown http://dbpedia.org/resource/Tarves', '<item> http://dbpedia.org/ontology/occupation http://dbpedia.org/resource/George_Mackie,_Baron_Mackie_of_Benshie__1', '<item> http://dbpedia.org/ontology/occupation http://dbpedia.org/resource/RAF', '<item> http://dbpedia.org/ontology/occupation http://dbpedia.org/resource/Scottish_Liberal_Party', '<item> http://dbpedia.org/ontology/party http://dbpedia.org/resource/Scottish_Liberal_Party', '<item> http://dbpedia.org/ontology/birthDateMonth 7', '<item> http://dbpedia.org/ontology/birthDateYear <year>', '<item> http://dbpedia.org/ontology/birthYear <year>', '<item> http://dbpedia.org/ontology/deathDateMonth 2', '<item> http://dbpedia.org/ontology/deathDateYear <year>', '<item> http://dbpedia.org/ontology/deathYear <year>']\n",
      "summary_with_URIs\n",
      "<item> , Baron Mackie of Benshie #surFormToken385 #surFormToken5984 #surFormToken26141 ( 0  July <year>  – 0  February <year>  ) was a Scottish #surFormToken2057 Party #surFormToken1836 . After #surFormToken323 in which he served as a decorated #surFormToken4948 with #surFormToken74156 , #surFormToken68094 took over a farm at Benshie , #surFormToken26052 , and subsequently set up a #surFormToken11547 at Braeroy , #surFormToken194717 , near #surFormToken321017 .\n",
      "summary_with_surf_forms\n",
      "<item> , Baron Mackie of Benshie #surFormToken3064 #surFormToken7852 #surFormToken56410 ( 0  July <year>  – 0  February <year>  ) was a Scottish #surFormToken2540 Party #surFormToken2788 . After #surFormToken379 in which he served as a decorated #surFormToken87873 with #surFormToken99612 , #surFormToken91777 took over a farm at Benshie , #surFormToken93662 , and subsequently set up a #surFormToken26280 at Braeroy , #surFormToken263949 , near #surFormToken435403 .\n"
     ]
    }
   ],
   "source": [
    "index = 14\n",
    "for key in dataset:\n",
    "    print(key)\n",
    "    print(dataset[key][index])"
   ]
  },
  {
   "cell_type": "markdown",
   "metadata": {},
   "source": [
    "The keys of the dictionary are described below:\n",
    "* `item`: refers to the main entity of each Wikipedia summary.\n",
    "* `original_summary`: refers to the original Wikipedia summary, prior to any pre-processing.\n",
    "* `triples`: refers to the list of triples that associated with the Wikipedia summary.\n",
    "* `summary_with_URIs`: refers to the Wikipedia summary after pre-processing. The entities that have been annotated in the original summary are represented as URIs.\n",
    "* `summary_with_surf_forms`: refers to the Wikipedia summary after pre-processing. The entities that have been annotated in the original summary are represented as surface form tuples.\n",
    "\n",
    "Any reference to the main entity in the `triples`, `summary_with_URIs`, and `summary_with_surf_forms` is represented with the special `<item>` token. \n",
    "\n",
    "Tokens, such as `#surFormToken101` and `#surFormToken103` are used as temporal placeholders for the annotated entities' URIs in the case of `summary_with_URIs` or the entities' surface form tuples in the case of `summary_with_surf_forms`. These can be replaced by using the supporting dictionaries of the following `pickle` files."
   ]
  },
  {
   "cell_type": "code",
   "execution_count": 5,
   "metadata": {},
   "outputs": [
    {
     "name": "stdout",
     "output_type": "stream",
     "text": [
      "Successfully loaded surface form tokens file at: ./D1/utils/Surface-Form-Tokens.p\n",
      "Successfully loaded surface form tokens file at: ./D1/utils/URI-Tokens.p\n",
      "Successfully loaded surface forms file at: ./D1/utils/Surface-Forms-Counts.p\n",
      "Successfully loaded surface forms file at: ./D1/utils/URI-Counts.p\n"
     ]
    }
   ],
   "source": [
    "surf_forms_tokens_location = './%s/utils/Surface-Form-Tokens.p' % selected_dataset\n",
    "with open('./%s/utils/Surface-Form-Tokens.p' % selected_dataset, 'rb') as f:\n",
    "    surf_forms_tokens = pickle.load(f)\n",
    "    print('Successfully loaded surface form tokens file at: %s' % surf_forms_tokens_location)\n",
    "\n",
    "uri_tokens_location = './%s/utils/URI-Tokens.p' % selected_dataset   \n",
    "with open('./%s/utils/URI-Tokens.p' % selected_dataset, 'rb') as f:\n",
    "    uri_tokens = pickle.load(f)\n",
    "    print('Successfully loaded surface form tokens file at: %s' % uri_tokens_location)\n",
    "\n",
    "surf_form_counts_location = './%s/utils/Surface-Forms-Counts.p' % selected_dataset\n",
    "with open('./%s/utils/Surface-Forms-Counts.p' % selected_dataset, 'rb') as f:\n",
    "    surf_form_counts = pickle.load(f)\n",
    "    print('Successfully loaded surface forms file at: %s' % surf_form_counts_location)\n",
    "    \n",
    "uri_counts_location =  './%s/utils/URI-Counts.p' % selected_dataset  \n",
    "with open('./%s/utils/URI-Counts.p' % selected_dataset, 'rb') as f:\n",
    "    uri_counts = pickle.load(f)\n",
    "    print('Successfully loaded surface forms file at: %s' % uri_counts_location)"
   ]
  },
  {
   "cell_type": "code",
   "execution_count": 6,
   "metadata": {},
   "outputs": [],
   "source": [
    "# We are inverting the dictionaries of interest.\n",
    "inv_uri_tokens = {v: k for k, v in uri_tokens.iteritems()}\n",
    "inv_surf_forms_tokens = {v: k for k, v in surf_forms_tokens.iteritems()}"
   ]
  },
  {
   "cell_type": "markdown",
   "metadata": {},
   "source": [
    "An example of the structure of each one of the supporting dictionaries is presented below. Below are examples for the dictionaries that map the temporal placeholders (e.g. `#surFormToken103`) to their respecive URIs and surface form tuples respectively.\n",
    "```python\n",
    "uri_tokens = {u'http://dbpedia.org/resource/Snyder_Rini': '#surFormToken77050',\n",
    "              u'http://dbpedia.org/resource/Mountain_West_Conference': '#surFormToken77051',\n",
    "              ...}\n",
    "surf_forms_tokens = {(u'http://dbpedia.org/resource/Album', u'studio album'): '#surFormToken352',\n",
    "                     (u'http://dbpedia.org/resource/Album', u'studio albums'): '#surFormToken697',\n",
    "                     (u'http://dbpedia.org/resource/Actor', u'actor'): '#surFormToken693',\n",
    "                     (u'http://dbpedia.org/resource/Actor', u'stage'): '#surFormToken622'}\n",
    "```"
   ]
  },
  {
   "cell_type": "markdown",
   "metadata": {},
   "source": [
    "Examples of the inverses of the above dictionaries, which map the temporal placeholders (e.g. `#surFormToken103`) to their respecive URIs and surface form tuples, are shown below:\n",
    "```python\n",
    "inv_uri_tokens = {'#surFormToken77050': u'http://dbpedia.org/resource/Snyder_Rini',\n",
    "                  '#surFormToken77051': u'http://dbpedia.org/resource/Mountain_West_Conference', \n",
    "                  ...}\n",
    "inv_surf_forms_tokens = {'#surFormToken77057': (u'http://dbpedia.org/resource/Snyder_Rini', u'Snyder Rini'),       \n",
    "                         '#surFormToken77051': (u'http://dbpedia.org/resource/Richard_Webb_(actor)', u'Richard Webb'), \n",
    "                         ...}\n",
    "```"
   ]
  },
  {
   "cell_type": "markdown",
   "metadata": {},
   "source": [
    "Below are examples of the dictionaries' structure that track the frequency with which surface forms have been associated with entity URIs.\n",
    "```python\n",
    "uri_counts = {'http://dbpedia.org/resource/Actor': {u'actor': 19014, u'actress': 14941, ...},\n",
    "              'http://dbpedia.org/resource/Europe': {u'Europe': 3169, u'European': 1446, ...}, \n",
    "              ...}\n",
    "surf_form_counts = {'http://dbpedia.org/resource/Albert_Einstein': {'Albert Einstein': 1, 'Einstein': 2},\n",
    "                    'http://dbpedia.org/resource/Artist': {'artist': 1, 'artists': 1}, \n",
    "                    ...}\n",
    "```"
   ]
  },
  {
   "cell_type": "code",
   "execution_count": 7,
   "metadata": {},
   "outputs": [],
   "source": [
    "def getAligned(index, use_surface_forms = False):\n",
    "    if index < len(dataset['item']):\n",
    "        \n",
    "        # Printing the summary by representing the annotated entities as URIs.\n",
    "        print ('Wikipedia Summary w/ URIs:')\n",
    "        tokens = dataset['summary_with_URIs'][index].split()\n",
    "        for j in range (0, len(tokens)):\n",
    "            if tokens[j] in inv_uri_tokens:\n",
    "                tempURI = inv_uri_tokens[tokens[j]]\n",
    "                if use_surface_forms:              \n",
    "                    tokens[j] = max(uri_counts[tempURI].iteritems(), key=operator.itemgetter(1))[0]\n",
    "                else:\n",
    "                    tokens[j] = tempURI\n",
    "            elif tokens[j] == '<item>':\n",
    "                tempURI = dataset['item'][index].decode('utf-8')\n",
    "                print tempURI\n",
    "                if use_surface_forms:              \n",
    "                    tokens[j] = max(uri_counts[tempURI].iteritems(), key=operator.itemgetter(1))[0]\n",
    "                else:\n",
    "                    tokens[j] = tempURI\n",
    "        print(' '.join(tokens))\n",
    "        \n",
    "        # Printing the summary by representing the annotated entities as surface form tuples.\n",
    "        print ('\\nWikipedia Summary w/ Surf. Form Tuples:')\n",
    "        tokens = dataset['summary_with_surf_forms'][index].split()\n",
    "        for j in range (0, len(tokens)):\n",
    "            if tokens[j] in inv_surf_forms_tokens:\n",
    "                tempTuple = inv_surf_forms_tokens[tokens[j]]\n",
    "                if use_surface_forms:              \n",
    "                    tokens[j] = tempTuple[1]\n",
    "                else:\n",
    "                    tokens[j] = str(tempTuple)\n",
    "            elif tokens[j] == '<item>':\n",
    "                tempURI = dataset['item'][index].decode('utf-8')\n",
    "                if use_surface_forms:              \n",
    "                    tokens[j] = max(surf_form_counts[tempURI].iteritems(), key=operator.itemgetter(1))[0]\n",
    "                else:\n",
    "                    tokens[j] = tempURI\n",
    "        print(' '.join(tokens))\n",
    "        \n",
    "        # Printing the knowledge base triples allocated to the summary.\n",
    "        print ('\\nTriples:')\n",
    "        for j in range(0, len(dataset['triples'][index])):\n",
    "            print(dataset['triples'][index][j].replace('<item>', dataset['item'][index]))\n",
    "    else:\n",
    "        print('Pick an index between 0 and %d.' % (len(dataset['item']) - 1))"
   ]
  },
  {
   "cell_type": "markdown",
   "metadata": {},
   "source": [
    "By running the `getAligned(i, use_surface_forms)` function, we are printing the $i$-th Wikipedia summary, both with URIs and surface form tuples, along with its corresponding triples. \n",
    "\n",
    "In case that the `use_surface_forms` variable is set to `True` then:\n",
    "* In the case of the Wikipedia summaries with URIs, the entity URIs that exist in the text will be replaced by their corresponding most-frequently met surface forms.\n",
    "* In the case of the Wikipedia summaries with surface form tuples, the tuples are removed and only their second element (surface form) is kept."
   ]
  },
  {
   "cell_type": "code",
   "execution_count": 8,
   "metadata": {},
   "outputs": [
    {
     "name": "stdout",
     "output_type": "stream",
     "text": [
      "Wikipedia Summary w/ URIs:\n",
      "http://dbpedia.org/resource/Kiyoshi_Kuromiya\n",
      "http://dbpedia.org/resource/Kiyoshi_Kuromiya ( May 0 , <year> – May 0 , <year> ) was a http://dbpedia.org/resource/Japanese_American_internment author and http://dbpedia.org/resource/Civil_and_political_rights http://dbpedia.org/resource/Activism . He was born in a http://dbpedia.org/resource/Japanese_American_internment camp on May 0 , <year> in http://dbpedia.org/resource/Heart_Mountain_Relocation_Center , http://dbpedia.org/resource/University_of_Wyoming .\n",
      "\n",
      "Wikipedia Summary w/ Surf. Form Tuples:\n",
      "http://dbpedia.org/resource/Kiyoshi_Kuromiya ( May 0 , <year> – May 0 , <year> ) was a (u'http://dbpedia.org/resource/Japanese_American_internment', u'Japanese American') author and (u'http://dbpedia.org/resource/Civil_and_political_rights', u'civil rights') (u'http://dbpedia.org/resource/Activism', u'activist') . He was born in a (u'http://dbpedia.org/resource/Japanese_American_internment', u'Japanese American internment') camp on May 0 , <year> in (u'http://dbpedia.org/resource/Heart_Mountain_Relocation_Center', u'Heart Mountain') , (u'http://dbpedia.org/resource/University_of_Wyoming', u'Wyoming') .\n",
      "\n",
      "Triples:\n",
      "http://dbpedia.org/resource/Kiyoshi_Kuromiya http://dbpedia.org/ontology/almaMater http://dbpedia.org/resource/Monrovia_High_School\n",
      "http://dbpedia.org/resource/Kiyoshi_Kuromiya http://dbpedia.org/ontology/almaMater http://dbpedia.org/resource/University_of_Pennsylvania\n",
      "http://dbpedia.org/resource/Kiyoshi_Kuromiya http://dbpedia.org/ontology/birthPlace http://dbpedia.org/resource/Heart_Mountain_Relocation_Center\n",
      "http://dbpedia.org/resource/Kiyoshi_Kuromiya http://dbpedia.org/ontology/birthPlace http://dbpedia.org/resource/Wyoming\n",
      "http://dbpedia.org/resource/Kiyoshi_Kuromiya http://dbpedia.org/ontology/ethnicity http://dbpedia.org/resource/Japanese_American\n",
      "http://dbpedia.org/resource/Kiyoshi_Kuromiya http://dbpedia.org/ontology/occupation http://dbpedia.org/resource/Kiyoshi_Kuromiya__1\n",
      "http://dbpedia.org/resource/Kiyoshi_Kuromiya http://dbpedia.org/ontology/birthDateMonth 5\n",
      "http://dbpedia.org/resource/Kiyoshi_Kuromiya http://dbpedia.org/ontology/birthDateYear <year>\n",
      "http://dbpedia.org/resource/Kiyoshi_Kuromiya http://dbpedia.org/ontology/birthYear <year>\n",
      "http://dbpedia.org/resource/Kiyoshi_Kuromiya http://dbpedia.org/ontology/deathDateMonth 5\n",
      "http://dbpedia.org/resource/Kiyoshi_Kuromiya http://dbpedia.org/ontology/deathDateYear <year>\n",
      "http://dbpedia.org/resource/Kiyoshi_Kuromiya http://dbpedia.org/ontology/deathYear <year>\n"
     ]
    }
   ],
   "source": [
    "getAligned(4020, False)"
   ]
  },
  {
   "cell_type": "code",
   "execution_count": 9,
   "metadata": {},
   "outputs": [
    {
     "name": "stdout",
     "output_type": "stream",
     "text": [
      "Wikipedia Summary w/ URIs:\n",
      "http://dbpedia.org/resource/Frederick_Hugh_Sherston_Roberts\n",
      "Frederick Hugh Sherston Roberts VC (8 January <year> – 0 December <year> ) , son of the famous Victoria commander Field Marshal Lord Roberts , was born in Ambala , India , and received the VC , the highest and most prestigious award for gallantry in the face of the enemy that can be awarded to British and Commonwealth forces .\n",
      "\n",
      "Wikipedia Summary w/ Surf. Form Tuples:\n",
      "Frederick Hugh Sherston Roberts VC (8 January <year> – 0 December <year> ) , son of the famous Victorian commander Field Marshal Frederick Roberts, 1st Earl Roberts , was born in Umballa , India , and received the Victoria Cross , the highest and most prestigious award for gallantry in the face of the enemy that can be awarded to British and Commonwealth forces .\n",
      "\n",
      "Triples:\n",
      "http://dbpedia.org/resource/Frederick_Hugh_Sherston_Roberts http://dbpedia.org/ontology/award http://dbpedia.org/resource/Mention_in_Despatches\n",
      "http://dbpedia.org/resource/Frederick_Hugh_Sherston_Roberts http://dbpedia.org/ontology/award http://dbpedia.org/resource/Order_of_the_Medjidie\n",
      "http://dbpedia.org/resource/Frederick_Hugh_Sherston_Roberts http://dbpedia.org/ontology/award http://dbpedia.org/resource/Victoria_Cross\n",
      "http://dbpedia.org/resource/Frederick_Hugh_Sherston_Roberts http://dbpedia.org/ontology/battle http://dbpedia.org/resource/Battle_of_Colenso\n",
      "http://dbpedia.org/resource/Frederick_Hugh_Sherston_Roberts http://dbpedia.org/ontology/battle http://dbpedia.org/resource/Chitral_Expedition\n",
      "http://dbpedia.org/resource/Frederick_Hugh_Sherston_Roberts http://dbpedia.org/ontology/battle http://dbpedia.org/resource/Second_Boer_War\n",
      "http://dbpedia.org/resource/Frederick_Hugh_Sherston_Roberts http://dbpedia.org/ontology/militaryBranch http://dbpedia.org/resource/British_Army\n",
      "http://dbpedia.org/resource/Frederick_Hugh_Sherston_Roberts http://dbpedia.org/ontology/militaryUnit http://dbpedia.org/resource/King's_Royal_Rifle_Corps\n",
      "http://dbpedia.org/resource/Frederick_Hugh_Sherston_Roberts http://dbpedia.org/ontology/relation http://dbpedia.org/resource/Frederick_Roberts,_1st_Earl_Roberts\n",
      "http://dbpedia.org/resource/Frederick_Hugh_Sherston_Roberts http://dbpedia.org/ontology/restingPlace http://dbpedia.org/resource/Frere,_KwaZulu-Natal\n",
      "http://dbpedia.org/resource/Frederick_Hugh_Sherston_Roberts http://dbpedia.org/ontology/serviceEndYear <year>\n",
      "http://dbpedia.org/resource/Frederick_Hugh_Sherston_Roberts http://dbpedia.org/ontology/serviceStartYear <year>\n",
      "http://dbpedia.org/resource/Frederick_Roberts,_1st_Earl_Roberts http://dbpedia.org/ontology/relation http://dbpedia.org/resource/Frederick_Hugh_Sherston_Roberts\n"
     ]
    }
   ],
   "source": [
    "getAligned(72017, True)"
   ]
  }
 ],
 "metadata": {
  "kernelspec": {
   "display_name": "Python 2",
   "language": "python",
   "name": "python2"
  },
  "language_info": {
   "codemirror_mode": {
    "name": "ipython",
    "version": 2
   },
   "file_extension": ".py",
   "mimetype": "text/x-python",
   "name": "python",
   "nbconvert_exporter": "python",
   "pygments_lexer": "ipython2",
   "version": "2.7.12"
  }
 },
 "nbformat": 4,
 "nbformat_minor": 1
}
